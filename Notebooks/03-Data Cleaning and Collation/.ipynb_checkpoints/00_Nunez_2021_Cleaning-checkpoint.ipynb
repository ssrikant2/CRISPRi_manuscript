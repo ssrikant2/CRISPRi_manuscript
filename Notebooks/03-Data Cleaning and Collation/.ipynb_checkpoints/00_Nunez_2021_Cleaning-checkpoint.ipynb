{
 "cells": [
  {
   "cell_type": "code",
   "execution_count": 26,
   "id": "2525cc9c",
   "metadata": {},
   "outputs": [],
   "source": [
    "import pandas as pd\n",
    "#import pysam\n",
    "from Bio.Seq import Seq\n",
    "import gpplot\n",
    "from copy import deepcopy\n",
    "import seaborn as sns\n",
    "import matplotlib.pyplot as plt\n",
    "from poola import core as pool"
   ]
  },
  {
   "cell_type": "code",
   "execution_count": 27,
   "id": "a558d304",
   "metadata": {},
   "outputs": [],
   "source": [
    "in_path = '../Data/ExternalData/Nunez 2021/'\n",
    "nunez_tiling_sgrna = pd.read_excel(in_path + '1-s2.0-S0092867421003536-mmc4.xlsx', \n",
    "                             sheet_name = 'Tiling protospacers',\n",
    "                            skiprows = 3, header=0)\n",
    "nunez_tiling_phenotype = pd.read_excel(in_path + '1-s2.0-S0092867421003536-mmc4.xlsx', \n",
    "                             sheet_name = 'CRISPRi-K562',\n",
    "                            skiprows = 3, header=[0, 1])\n"
   ]
  },
  {
   "cell_type": "code",
   "execution_count": 28,
   "id": "0bd5af72",
   "metadata": {},
   "outputs": [
    {
     "data": {
      "text/html": [
       "<div>\n",
       "<style scoped>\n",
       "    .dataframe tbody tr th:only-of-type {\n",
       "        vertical-align: middle;\n",
       "    }\n",
       "\n",
       "    .dataframe tbody tr th {\n",
       "        vertical-align: top;\n",
       "    }\n",
       "\n",
       "    .dataframe thead th {\n",
       "        text-align: right;\n",
       "    }\n",
       "</style>\n",
       "<table border=\"1\" class=\"dataframe\">\n",
       "  <thead>\n",
       "    <tr style=\"text-align: right;\">\n",
       "      <th></th>\n",
       "      <th>Unnamed: 0</th>\n",
       "      <th>gene</th>\n",
       "      <th>sequence</th>\n",
       "    </tr>\n",
       "  </thead>\n",
       "  <tbody>\n",
       "    <tr>\n",
       "      <th>0</th>\n",
       "      <td>ACTR6_+_100592059</td>\n",
       "      <td>ACTR6</td>\n",
       "      <td>GCGAGCACATAGAGGGATCT</td>\n",
       "    </tr>\n",
       "    <tr>\n",
       "      <th>1</th>\n",
       "      <td>ACTR6_+_100592060</td>\n",
       "      <td>ACTR6</td>\n",
       "      <td>GTCGAGCACATAGAGGGATC</td>\n",
       "    </tr>\n",
       "    <tr>\n",
       "      <th>2</th>\n",
       "      <td>ACTR6_+_100592066</td>\n",
       "      <td>ACTR6</td>\n",
       "      <td>GCCTGCTTCGAGCACATAGA</td>\n",
       "    </tr>\n",
       "    <tr>\n",
       "      <th>3</th>\n",
       "      <td>ACTR6_+_100592067</td>\n",
       "      <td>ACTR6</td>\n",
       "      <td>GACCTGCTTCGAGCACATAG</td>\n",
       "    </tr>\n",
       "    <tr>\n",
       "      <th>4</th>\n",
       "      <td>ACTR6_+_100592092</td>\n",
       "      <td>ACTR6</td>\n",
       "      <td>GAGACTCTGTCACCTCCGAG</td>\n",
       "    </tr>\n",
       "  </tbody>\n",
       "</table>\n",
       "</div>"
      ],
      "text/plain": [
       "          Unnamed: 0   gene              sequence\n",
       "0  ACTR6_+_100592059  ACTR6  GCGAGCACATAGAGGGATCT\n",
       "1  ACTR6_+_100592060  ACTR6  GTCGAGCACATAGAGGGATC\n",
       "2  ACTR6_+_100592066  ACTR6  GCCTGCTTCGAGCACATAGA\n",
       "3  ACTR6_+_100592067  ACTR6  GACCTGCTTCGAGCACATAG\n",
       "4  ACTR6_+_100592092  ACTR6  GAGACTCTGTCACCTCCGAG"
      ]
     },
     "execution_count": 28,
     "metadata": {},
     "output_type": "execute_result"
    }
   ],
   "source": [
    "nunez_tiling_sgrna.head()"
   ]
  },
  {
   "cell_type": "code",
   "execution_count": 29,
   "id": "e917f5f6",
   "metadata": {},
   "outputs": [
    {
     "data": {
      "text/plain": [
       "116085"
      ]
     },
     "execution_count": 29,
     "metadata": {},
     "output_type": "execute_result"
    }
   ],
   "source": [
    "len(nunez_tiling_sgrna)"
   ]
  },
  {
   "cell_type": "code",
   "execution_count": 30,
   "id": "36a2f309",
   "metadata": {},
   "outputs": [
    {
     "data": {
      "text/html": [
       "<div>\n",
       "<style scoped>\n",
       "    .dataframe tbody tr th:only-of-type {\n",
       "        vertical-align: middle;\n",
       "    }\n",
       "\n",
       "    .dataframe tbody tr th {\n",
       "        vertical-align: top;\n",
       "    }\n",
       "\n",
       "    .dataframe thead tr th {\n",
       "        text-align: left;\n",
       "    }\n",
       "</style>\n",
       "<table border=\"1\" class=\"dataframe\">\n",
       "  <thead>\n",
       "    <tr>\n",
       "      <th></th>\n",
       "      <th>Unnamed: 0_level_0</th>\n",
       "      <th colspan=\"5\" halign=\"left\">Counts</th>\n",
       "      <th colspan=\"3\" halign=\"left\">Phenotype scores</th>\n",
       "    </tr>\n",
       "    <tr>\n",
       "      <th></th>\n",
       "      <th>id</th>\n",
       "      <th>T0, Rep1</th>\n",
       "      <th>T0, Rep2</th>\n",
       "      <th>Tfinal, Rep1</th>\n",
       "      <th>Tfinal, Rep2</th>\n",
       "      <th>Tfinal, Rep2.1</th>\n",
       "      <th>Rep1</th>\n",
       "      <th>Rep2</th>\n",
       "      <th>ave_Rep1_Rep2</th>\n",
       "    </tr>\n",
       "  </thead>\n",
       "  <tbody>\n",
       "    <tr>\n",
       "      <th>0</th>\n",
       "      <td>ACTR6_+_100592059</td>\n",
       "      <td>957</td>\n",
       "      <td>826</td>\n",
       "      <td>1038</td>\n",
       "      <td>788</td>\n",
       "      <td>NaN</td>\n",
       "      <td>-0.001747</td>\n",
       "      <td>-0.036016</td>\n",
       "      <td>-0.018881</td>\n",
       "    </tr>\n",
       "    <tr>\n",
       "      <th>1</th>\n",
       "      <td>ACTR6_+_100592060</td>\n",
       "      <td>758</td>\n",
       "      <td>739</td>\n",
       "      <td>945</td>\n",
       "      <td>914</td>\n",
       "      <td>NaN</td>\n",
       "      <td>0.017515</td>\n",
       "      <td>0.001070</td>\n",
       "      <td>0.009292</td>\n",
       "    </tr>\n",
       "    <tr>\n",
       "      <th>2</th>\n",
       "      <td>ACTR6_+_100592066</td>\n",
       "      <td>992</td>\n",
       "      <td>698</td>\n",
       "      <td>1021</td>\n",
       "      <td>922</td>\n",
       "      <td>NaN</td>\n",
       "      <td>-0.009000</td>\n",
       "      <td>0.010468</td>\n",
       "      <td>0.000734</td>\n",
       "    </tr>\n",
       "    <tr>\n",
       "      <th>3</th>\n",
       "      <td>ACTR6_+_100592067</td>\n",
       "      <td>958</td>\n",
       "      <td>849</td>\n",
       "      <td>952</td>\n",
       "      <td>1023</td>\n",
       "      <td>NaN</td>\n",
       "      <td>-0.013854</td>\n",
       "      <td>-0.002658</td>\n",
       "      <td>-0.008256</td>\n",
       "    </tr>\n",
       "    <tr>\n",
       "      <th>4</th>\n",
       "      <td>ACTR6_+_100592092</td>\n",
       "      <td>182</td>\n",
       "      <td>148</td>\n",
       "      <td>168</td>\n",
       "      <td>219</td>\n",
       "      <td>NaN</td>\n",
       "      <td>-0.024057</td>\n",
       "      <td>0.026685</td>\n",
       "      <td>0.001314</td>\n",
       "    </tr>\n",
       "  </tbody>\n",
       "</table>\n",
       "</div>"
      ],
      "text/plain": [
       "  Unnamed: 0_level_0   Counts                                     \\\n",
       "                  id T0, Rep1 T0, Rep2 Tfinal, Rep1 Tfinal, Rep2   \n",
       "0  ACTR6_+_100592059      957      826         1038          788   \n",
       "1  ACTR6_+_100592060      758      739          945          914   \n",
       "2  ACTR6_+_100592066      992      698         1021          922   \n",
       "3  ACTR6_+_100592067      958      849          952         1023   \n",
       "4  ACTR6_+_100592092      182      148          168          219   \n",
       "\n",
       "                 Phenotype scores                          \n",
       "  Tfinal, Rep2.1             Rep1      Rep2 ave_Rep1_Rep2  \n",
       "0            NaN        -0.001747 -0.036016     -0.018881  \n",
       "1            NaN         0.017515  0.001070      0.009292  \n",
       "2            NaN        -0.009000  0.010468      0.000734  \n",
       "3            NaN        -0.013854 -0.002658     -0.008256  \n",
       "4            NaN        -0.024057  0.026685      0.001314  "
      ]
     },
     "execution_count": 30,
     "metadata": {},
     "output_type": "execute_result"
    }
   ],
   "source": [
    "nunez_tiling_sgrna = nunez_tiling_sgrna.rename(columns={'Unnamed: 0': 'ID'})\n",
    "nunez_tiling_phenotype.head()"
   ]
  },
  {
   "cell_type": "code",
   "execution_count": 33,
   "id": "cf2e10a8-a7ec-498f-8101-9a70795beadc",
   "metadata": {},
   "outputs": [
    {
     "data": {
      "text/plain": [
       "116085"
      ]
     },
     "execution_count": 33,
     "metadata": {},
     "output_type": "execute_result"
    }
   ],
   "source": [
    "len(nunez_tiling_phenotype)"
   ]
  },
  {
   "cell_type": "code",
   "execution_count": 31,
   "id": "7149ad74",
   "metadata": {},
   "outputs": [],
   "source": [
    "nunez_tiling_phenotype.columns = [f'{i}-{j}' for i, j in nunez_tiling_phenotype.columns]\n",
    "nunez_tiling_phenotype = nunez_tiling_phenotype.rename(columns={'Unnamed: 0_level_0-id': 'ID'})\n",
    "nunez_tiling = pd.merge(nunez_tiling_sgrna, nunez_tiling_phenotype, on = 'ID')"
   ]
  },
  {
   "cell_type": "code",
   "execution_count": 32,
   "id": "3b7161f0",
   "metadata": {},
   "outputs": [
    {
     "data": {
      "text/html": [
       "<div>\n",
       "<style scoped>\n",
       "    .dataframe tbody tr th:only-of-type {\n",
       "        vertical-align: middle;\n",
       "    }\n",
       "\n",
       "    .dataframe tbody tr th {\n",
       "        vertical-align: top;\n",
       "    }\n",
       "\n",
       "    .dataframe thead th {\n",
       "        text-align: right;\n",
       "    }\n",
       "</style>\n",
       "<table border=\"1\" class=\"dataframe\">\n",
       "  <thead>\n",
       "    <tr style=\"text-align: right;\">\n",
       "      <th></th>\n",
       "      <th>ID</th>\n",
       "      <th>gene</th>\n",
       "      <th>sequence</th>\n",
       "      <th>Counts-T0, Rep1</th>\n",
       "      <th>Counts-T0, Rep2</th>\n",
       "      <th>Counts-Tfinal, Rep1</th>\n",
       "      <th>Counts-Tfinal, Rep2</th>\n",
       "      <th>Counts-Tfinal, Rep2.1</th>\n",
       "      <th>Phenotype scores-Rep1</th>\n",
       "      <th>Phenotype scores-Rep2</th>\n",
       "      <th>Phenotype scores-ave_Rep1_Rep2</th>\n",
       "    </tr>\n",
       "  </thead>\n",
       "  <tbody>\n",
       "    <tr>\n",
       "      <th>0</th>\n",
       "      <td>ACTR6_+_100592059</td>\n",
       "      <td>ACTR6</td>\n",
       "      <td>GCGAGCACATAGAGGGATCT</td>\n",
       "      <td>957</td>\n",
       "      <td>826</td>\n",
       "      <td>1038</td>\n",
       "      <td>788</td>\n",
       "      <td>NaN</td>\n",
       "      <td>-0.001747</td>\n",
       "      <td>-0.036016</td>\n",
       "      <td>-0.018881</td>\n",
       "    </tr>\n",
       "    <tr>\n",
       "      <th>1</th>\n",
       "      <td>ACTR6_+_100592060</td>\n",
       "      <td>ACTR6</td>\n",
       "      <td>GTCGAGCACATAGAGGGATC</td>\n",
       "      <td>758</td>\n",
       "      <td>739</td>\n",
       "      <td>945</td>\n",
       "      <td>914</td>\n",
       "      <td>NaN</td>\n",
       "      <td>0.017515</td>\n",
       "      <td>0.001070</td>\n",
       "      <td>0.009292</td>\n",
       "    </tr>\n",
       "    <tr>\n",
       "      <th>2</th>\n",
       "      <td>ACTR6_+_100592066</td>\n",
       "      <td>ACTR6</td>\n",
       "      <td>GCCTGCTTCGAGCACATAGA</td>\n",
       "      <td>992</td>\n",
       "      <td>698</td>\n",
       "      <td>1021</td>\n",
       "      <td>922</td>\n",
       "      <td>NaN</td>\n",
       "      <td>-0.009000</td>\n",
       "      <td>0.010468</td>\n",
       "      <td>0.000734</td>\n",
       "    </tr>\n",
       "    <tr>\n",
       "      <th>3</th>\n",
       "      <td>ACTR6_+_100592067</td>\n",
       "      <td>ACTR6</td>\n",
       "      <td>GACCTGCTTCGAGCACATAG</td>\n",
       "      <td>958</td>\n",
       "      <td>849</td>\n",
       "      <td>952</td>\n",
       "      <td>1023</td>\n",
       "      <td>NaN</td>\n",
       "      <td>-0.013854</td>\n",
       "      <td>-0.002658</td>\n",
       "      <td>-0.008256</td>\n",
       "    </tr>\n",
       "    <tr>\n",
       "      <th>4</th>\n",
       "      <td>ACTR6_+_100592092</td>\n",
       "      <td>ACTR6</td>\n",
       "      <td>GAGACTCTGTCACCTCCGAG</td>\n",
       "      <td>182</td>\n",
       "      <td>148</td>\n",
       "      <td>168</td>\n",
       "      <td>219</td>\n",
       "      <td>NaN</td>\n",
       "      <td>-0.024057</td>\n",
       "      <td>0.026685</td>\n",
       "      <td>0.001314</td>\n",
       "    </tr>\n",
       "  </tbody>\n",
       "</table>\n",
       "</div>"
      ],
      "text/plain": [
       "                  ID   gene              sequence  Counts-T0, Rep1  \\\n",
       "0  ACTR6_+_100592059  ACTR6  GCGAGCACATAGAGGGATCT              957   \n",
       "1  ACTR6_+_100592060  ACTR6  GTCGAGCACATAGAGGGATC              758   \n",
       "2  ACTR6_+_100592066  ACTR6  GCCTGCTTCGAGCACATAGA              992   \n",
       "3  ACTR6_+_100592067  ACTR6  GACCTGCTTCGAGCACATAG              958   \n",
       "4  ACTR6_+_100592092  ACTR6  GAGACTCTGTCACCTCCGAG              182   \n",
       "\n",
       "   Counts-T0, Rep2  Counts-Tfinal, Rep1  Counts-Tfinal, Rep2  \\\n",
       "0              826                 1038                  788   \n",
       "1              739                  945                  914   \n",
       "2              698                 1021                  922   \n",
       "3              849                  952                 1023   \n",
       "4              148                  168                  219   \n",
       "\n",
       "   Counts-Tfinal, Rep2.1  Phenotype scores-Rep1  Phenotype scores-Rep2  \\\n",
       "0                    NaN              -0.001747              -0.036016   \n",
       "1                    NaN               0.017515               0.001070   \n",
       "2                    NaN              -0.009000               0.010468   \n",
       "3                    NaN              -0.013854              -0.002658   \n",
       "4                    NaN              -0.024057               0.026685   \n",
       "\n",
       "   Phenotype scores-ave_Rep1_Rep2  \n",
       "0                       -0.018881  \n",
       "1                        0.009292  \n",
       "2                        0.000734  \n",
       "3                       -0.008256  \n",
       "4                        0.001314  "
      ]
     },
     "execution_count": 32,
     "metadata": {},
     "output_type": "execute_result"
    }
   ],
   "source": [
    "nunez_tiling.head()"
   ]
  },
  {
   "cell_type": "code",
   "execution_count": 9,
   "id": "e04f0503",
   "metadata": {},
   "outputs": [],
   "source": [
    "nunez_tiling.drop('Counts-Tfinal, Rep2.1', axis=1, inplace=True)"
   ]
  },
  {
   "cell_type": "code",
   "execution_count": 10,
   "id": "1075d35f",
   "metadata": {},
   "outputs": [
    {
     "data": {
      "text/plain": [
       "Index(['ID', 'gene', 'sequence', 'Counts-T0, Rep1', 'Counts-T0, Rep2',\n",
       "       'Counts-Tfinal, Rep1', 'Counts-Tfinal, Rep2', 'Phenotype scores-Rep1',\n",
       "       'Phenotype scores-Rep2', 'Phenotype scores-ave_Rep1_Rep2'],\n",
       "      dtype='object')"
      ]
     },
     "execution_count": 10,
     "metadata": {},
     "output_type": "execute_result"
    }
   ],
   "source": [
    "nunez_tiling.columns"
   ]
  },
  {
   "cell_type": "markdown",
   "id": "1611cc44",
   "metadata": {},
   "source": [
    "#### growth phenotype is defined in the supple figure 1 of gilbert 2014"
   ]
  },
  {
   "attachments": {
    "Screenshot%202023-08-24%20at%204.15.36%20PM.png": {
     "image/png": "[encoded data removed]"
    }
   },
   "cell_type": "markdown",
   "id": "17d79f91",
   "metadata": {},
   "source": [
    "![Screenshot%202023-08-24%20at%204.15.36%20PM.png](attachment:Screenshot%202023-08-24%20at%204.15.36%20PM.png)"
   ]
  },
  {
   "cell_type": "code",
   "execution_count": 11,
   "id": "00998edd",
   "metadata": {},
   "outputs": [],
   "source": [
    "# remove nas\n",
    "nunez_tiling_rm_na = nunez_tiling[['ID','gene','sequence','Phenotype scores-ave_Rep1_Rep2']].dropna().copy()"
   ]
  },
  {
   "cell_type": "code",
   "execution_count": 12,
   "id": "8f09a48a",
   "metadata": {},
   "outputs": [],
   "source": [
    "# remove neg controls\n",
    "nunez_tiling_rm_nc = nunez_tiling_rm_na[nunez_tiling_rm_na.gene != 'negative_control'].copy()"
   ]
  },
  {
   "cell_type": "code",
   "execution_count": 13,
   "id": "f529193e",
   "metadata": {},
   "outputs": [],
   "source": [
    "# split the column\n",
    "nunez_tiling_rm_nc['strand'] = nunez_tiling_rm_nc.ID.str.split(\"_\").str[1]\n",
    "nunez_tiling_rm_nc['coord'] = nunez_tiling_rm_nc.ID.str.split(\"_\").str[2]"
   ]
  },
  {
   "cell_type": "code",
   "execution_count": 14,
   "id": "b956ea75",
   "metadata": {},
   "outputs": [
    {
     "data": {
      "text/plain": [
       "sequence\n",
       "20    111504\n",
       "Name: count, dtype: int64"
      ]
     },
     "execution_count": 14,
     "metadata": {},
     "output_type": "execute_result"
    }
   ],
   "source": [
    "# length of the guide\n",
    "nunez_tiling_rm_nc.sequence.map(len).value_counts()"
   ]
  },
  {
   "cell_type": "code",
   "execution_count": 15,
   "id": "78cd9a7c",
   "metadata": {},
   "outputs": [
    {
     "data": {
      "text/plain": [
       "520"
      ]
     },
     "execution_count": 15,
     "metadata": {},
     "output_type": "execute_result"
    }
   ],
   "source": [
    "len(nunez_tiling_rm_nc.gene.unique())"
   ]
  },
  {
   "cell_type": "code",
   "execution_count": 16,
   "id": "994ced99",
   "metadata": {},
   "outputs": [],
   "source": [
    "pd.DataFrame(nunez_tiling_rm_nc.gene.unique()).to_csv('../Data/ExternalData/Nunez 2021/CRISPick/gene_set.csv',\n",
    "                                                     index = False, header = None)"
   ]
  },
  {
   "cell_type": "code",
   "execution_count": 17,
   "id": "bb78717b",
   "metadata": {},
   "outputs": [
    {
     "ename": "NameError",
     "evalue": "name 'pysam' is not defined",
     "output_type": "error",
     "traceback": [
      "\u001b[0;31m---------------------------------------------------------------------------\u001b[0m",
      "\u001b[0;31mNameError\u001b[0m                                 Traceback (most recent call last)",
      "Cell \u001b[0;32mIn[17], line 4\u001b[0m\n\u001b[1;32m      1\u001b[0m \u001b[38;5;66;03m# import whole genome\u001b[39;00m\n\u001b[1;32m      2\u001b[0m \u001b[38;5;66;03m# need to have hg38.fa.gz.fai and hg38.fa.gz.gzi in the same directory\u001b[39;00m\n\u001b[1;32m      3\u001b[0m \u001b[38;5;66;03m# you can get this file on UCSC\u001b[39;00m\n\u001b[0;32m----> 4\u001b[0m genome \u001b[38;5;241m=\u001b[39m \u001b[43mpysam\u001b[49m\u001b[38;5;241m.\u001b[39mFastafile(filename\u001b[38;5;241m=\u001b[39m\u001b[38;5;124m\"\u001b[39m\u001b[38;5;124m../../../../../../../../Comp Data Sets/Reference Genomes/Human-hg38/hg38.fa.gz\u001b[39m\u001b[38;5;124m\"\u001b[39m)\n",
      "\u001b[0;31mNameError\u001b[0m: name 'pysam' is not defined"
     ]
    }
   ],
   "source": [
    "# import whole genome\n",
    "# need to have hg38.fa.gz.fai and hg38.fa.gz.gzi in the same directory\n",
    "# you can get this file on UCSC\n",
    "genome = pysam.Fastafile(filename=\"../../../../../../../../Comp Data Sets/Reference Genomes/Human-hg38/hg38.fa.gz\")"
   ]
  },
  {
   "cell_type": "markdown",
   "id": "a86c0e58",
   "metadata": {},
   "source": [
    "Nunez has sgRNA(20nts), guide ID(ACTR6_+_100592059, 100592059 seems to be some info about the postion of the guide), gene name, phenotype meterics. In order to perform all the analysis in the pipline, I need to collect information of the start and end postion of the guide and find the context sequence. Here are some steps I have taken and trouble shoot.\n",
    "\n",
    "##### some problems I have encountered so far\n",
    "First I want to match the guide to the whole genome to get all the missing information\n",
    "1. I tried to blat the seq using ucsc hg38 and hg19 and it doesn't match to anything\n",
    "2. guide ID seems to offer information about the coordinate(ex: 100592059 in ACTR6_+_100592059), so I used the downloaded whole genome hg38, found the +- 30 base around the the coordinate, and matched the guide to the genome and its reverse complement. However, still no match is generated.\n",
    "3. I reached out to Sarra for help. We tried NCBI blast for the guide. However, NCBI shows guide has a lot of matchs and isn't matching to its orginal gene.\n",
    "4. Sarra helped me to take a deeper look at the sequence and she found out the library is actually deisgned with the hg19 genome build and when matching the guide I need to remove the first G. \n",
    "\n",
    "Using what i learnt above, I performed the following steps To get the context sequence and guide position\n",
    "Ran CRISPick on the set of 520 genes to get the chromosome number for each gene. Among these, three genes (EFTUD1, QARS, SARS) were invalid in CRISPick due to \"Multiple genes matching.\"  EFTUD1 is a novel transcript and exact matches for QARS and SARS couldn't be located in the Ensembl database. These genes were excluded, resulting in a set of 517 genes. Note: 20 genes had different gene symbols in CRISPick.\n",
    "\n",
    "1. Used liftover to find the coordinates in the guide IDs within the hg38 build. Note, 3863 coordinates were not present in the hg38 build and guide ID with those coodinates were removed.\n",
    "2. Removed the initial \"g\" nucleotide from all the guides.\n",
    "3. Used the downloaded hg38 whole genome to identify the sgRNA without the \"g,\".  Depending on the strand and using the coordinates from the guide IDs:\n",
    "- If the strand is \"-\", the start was determined as \"coord - 21\" and the end as \"coord - 2.\"\n",
    "- If the strand is \"+\", the start was set as \"coord + 3\" and the end as \"coord + 22.\" In this case, reverse complementing was applied.\n",
    "4. Matched results from step 4 to step 3.  I found 507 instances where steps 4 and 3 did not align.\n",
    "5. Removed the mismatches and negative controls.\n",
    "6. Queried the downloaded hg38 whole genome to retrieve the context sequences.\n",
    "7. Verified whether the PAM sequence ended with \"GG.\" There are 4 exceptions.\n",
    "8. removed these four sequences, \n",
    "\n"
   ]
  },
  {
   "cell_type": "code",
   "execution_count": null,
   "id": "1b7d2fc0",
   "metadata": {},
   "outputs": [],
   "source": [
    "# import crispick results to get gene chr \n",
    "gene_crispick = pd.read_table('../Data/ExternalData/Nunez 2021/CRISPick/gene-set-sgrna-designs.txt')\n"
   ]
  },
  {
   "cell_type": "markdown",
   "id": "d3c9bebf",
   "metadata": {},
   "source": [
    "{'ATP5B',\n",
    " 'ATP5F1B',\n",
    " 'C12orf45',\n",
    " 'C14orf166',\n",
    " 'CARS',\n",
    " 'CARS1',\n",
    " 'CD3EAP',\n",
    " 'DARS',\n",
    " 'DARS1',\n",
    " 'DIEXF',\n",
    " 'EFTUD1',\n",
    " 'MICOS10',\n",
    " 'MICOS10-NBL1',\n",
    " 'MINOS1',\n",
    " 'MINOS1-NBL1',\n",
    " 'MKI67IP',\n",
    " 'MRP63',\n",
    " 'MRPL57',\n",
    " 'NARS',\n",
    " 'NARS1',\n",
    " 'NDNL2',\n",
    " 'NIFK',\n",
    " 'NOPCHAP1',\n",
    " 'NSMCE3',\n",
    " 'PHB',\n",
    " 'PHB1',\n",
    " 'POLR1G',\n",
    " 'POLR1H',\n",
    " 'PRELID3B',\n",
    " 'QARS',\n",
    " 'RARS',\n",
    " 'RARS1',\n",
    " 'RTRAF',\n",
    " 'SARS',\n",
    " 'SGO1',\n",
    " 'SGOL1',\n",
    " 'SLMO2',\n",
    " 'UTP25',\n",
    " 'VARS',\n",
    " 'VARS1',\n",
    " 'YAE1',\n",
    " 'YAE1D1',\n",
    " 'ZNRD1'}\n",
    " \n",
    " those genes have differnt name in CRISPick and CRISPRi\n",
    " \n",
    " \n",
    " can directly combine the the gene name as the output of CRISPick is the same as the inputs"
   ]
  },
  {
   "cell_type": "code",
   "execution_count": null,
   "id": "4a656269",
   "metadata": {},
   "outputs": [],
   "source": [
    "#need to find chrom for genes have differnt name in CRISPick and CRISPRi\n",
    "miss_gene = set(nunez_tiling_rm_nc.gene.unique()) ^ set(set(gene_crispick['Target Gene Symbol']) & \n",
    "                                                set(nunez_tiling_rm_nc.gene.unique()))\n",
    "# number of genes have differnt name in CRISPick and CRISPRi\n",
    "len(miss_gene)"
   ]
  },
  {
   "cell_type": "code",
   "execution_count": null,
   "id": "4d7dc1de",
   "metadata": {},
   "outputs": [],
   "source": [
    "gene_set= pd.read_csv('../Data/ExternalData/Nunez 2021/CRISPick/gene_set.csv', header = None)\n",
    "gene_set = gene_set[~gene_set[0].isin(['EFTUD1', 'QARS', 'SARS'])][0].dropna().tolist()\n",
    "# EFTUD1 is a novel transcript and coundn't find the exact match for QARS and SARS\n",
    "gene_crispick['input gene'] = gene_set"
   ]
  },
  {
   "cell_type": "code",
   "execution_count": null,
   "id": "98ba653b",
   "metadata": {},
   "outputs": [],
   "source": [
    "# new name for the updated gene name\n",
    "merge_gene_name = gene_crispick[['Target Gene Symbol', 'input gene']].copy()\n",
    "merge_gene_name[merge_gene_name['input gene'].isin(miss_gene)]"
   ]
  },
  {
   "cell_type": "code",
   "execution_count": null,
   "id": "6f832454",
   "metadata": {},
   "outputs": [],
   "source": [
    "gene_crispick = gene_crispick[['Target Gene Symbol', 'input gene', 'Reference Sequence']]"
   ]
  },
  {
   "cell_type": "code",
   "execution_count": null,
   "id": "b626d169",
   "metadata": {},
   "outputs": [],
   "source": [
    "gene_crispick.loc[:,'chromosome'] = 'chr' + gene_crispick['Reference Sequence'].str.split(\"_\").str[1].str.split(\".\").str[0].str[4:6].astype(int).astype(str)"
   ]
  },
  {
   "cell_type": "code",
   "execution_count": null,
   "id": "152c9414",
   "metadata": {},
   "outputs": [],
   "source": [
    "merged_tiling = pd.merge(gene_crispick, nunez_tiling_rm_nc, left_on = 'input gene', right_on = 'gene', how = 'inner')\n",
    "merged_tiling.gene.value_counts()"
   ]
  },
  {
   "cell_type": "code",
   "execution_count": null,
   "id": "5e5506f9",
   "metadata": {},
   "outputs": [],
   "source": [
    "merged_tiling['liftover'] = merged_tiling['chromosome'] + ':' + merged_tiling['coord'] + '-' + merged_tiling['coord']"
   ]
  },
  {
   "cell_type": "code",
   "execution_count": null,
   "id": "71796534",
   "metadata": {},
   "outputs": [],
   "source": [
    "# import error file from liftover and remove it from the current dataset\n",
    "err_file = pd.read_table('../Data/ExternalData/Nunez 2021/liftover/hglft_genome_1316f_cb3530.err', header = None)\n",
    "new_merged_tiling = merged_tiling[~merged_tiling['liftover'].isin(err_file[0])]\n",
    "new_merged_tiling = new_merged_tiling.sort_index().reset_index(drop=True)"
   ]
  },
  {
   "cell_type": "code",
   "execution_count": null,
   "id": "2ccdb086",
   "metadata": {},
   "outputs": [],
   "source": [
    "len(err_file)/2"
   ]
  },
  {
   "cell_type": "code",
   "execution_count": null,
   "id": "70dc292c",
   "metadata": {},
   "outputs": [],
   "source": [
    "len(merged_tiling)"
   ]
  },
  {
   "cell_type": "code",
   "execution_count": null,
   "id": "c34022e6",
   "metadata": {},
   "outputs": [],
   "source": [
    "# import liftover result for hg19 to hg38\n",
    "hg38_coord = pd.read_table('../Data/ExternalData/Nunez 2021/liftover/liftover_result.bed', header = None)"
   ]
  },
  {
   "cell_type": "code",
   "execution_count": null,
   "id": "242ac0af",
   "metadata": {},
   "outputs": [],
   "source": [
    "# add hg38 annotation\n",
    "new_merged_tiling['hg38_coord'] = hg38_coord[0].str.split('-').str[1]"
   ]
  },
  {
   "cell_type": "markdown",
   "id": "4206bd09",
   "metadata": {},
   "source": [
    "###### play around to find rules for seq"
   ]
  },
  {
   "cell_type": "code",
   "execution_count": null,
   "id": "1b3c7f07",
   "metadata": {},
   "outputs": [],
   "source": [
    "new_merged_tiling[new_merged_tiling.gene == 'ACTR6']"
   ]
  },
  {
   "cell_type": "code",
   "execution_count": null,
   "id": "ce685b19",
   "metadata": {},
   "outputs": [],
   "source": [
    "#if strand is -\n",
    "# then start: coord - 21 | end: coord - 2\n",
    "pos_strand_ex = genome.fetch(\"chr12\", 100203198 - 25, 100203198 +4)\n",
    "print(pos_strand_ex)"
   ]
  },
  {
   "cell_type": "code",
   "execution_count": null,
   "id": "485274ee",
   "metadata": {},
   "outputs": [],
   "source": [
    "#if strand is +\n",
    "# then start: coord + 3 | end: coord + 22\n",
    "pos_strand_ex = genome.fetch(\"chr12\", 100198281+3 , 100198281 +22)\n",
    "seq = Seq(pos_strand_ex)\n",
    "print(seq.reverse_complement())"
   ]
  },
  {
   "cell_type": "markdown",
   "id": "056492e5",
   "metadata": {},
   "source": [
    "##### apply the rules to the entire dataset"
   ]
  },
  {
   "cell_type": "code",
   "execution_count": null,
   "id": "de50e22d",
   "metadata": {},
   "outputs": [],
   "source": [
    "new_merged_tiling['seq_remove_g'] = new_merged_tiling.sequence.str[1:]"
   ]
  },
  {
   "cell_type": "code",
   "execution_count": null,
   "id": "ab7cd57e",
   "metadata": {},
   "outputs": [],
   "source": [
    "new_merged_tiling['hg38_coord'] = new_merged_tiling['hg38_coord'].astype(int)"
   ]
  },
  {
   "cell_type": "code",
   "execution_count": null,
   "id": "cd81a1f9",
   "metadata": {},
   "outputs": [],
   "source": [
    "new_merged_tiling"
   ]
  },
  {
   "cell_type": "code",
   "execution_count": null,
   "id": "baaac744",
   "metadata": {
    "scrolled": true
   },
   "outputs": [],
   "source": [
    "# The 30nt context sequence (assuming 20nt guide)\n",
    "# +4nt from 5' end\n",
    "# NGG\n",
    "# +3 from 3' end \n",
    "\n",
    "# the guide is techniqucally 19 nts so \n",
    "# +5nt from 5' end\n",
    "# NGG\n",
    "# +3 from 3' end \n",
    "\n",
    "start_coords = []\n",
    "end_coords = []\n",
    "guide_inx_mismatch = []\n",
    "context_seq = []\n",
    "for index, row in new_merged_tiling.iterrows():\n",
    "    if row['strand'] == '+':\n",
    "        start = row['hg38_coord'] + 3\n",
    "        end = row['hg38_coord'] + 22\n",
    "        start_coords.append(start)\n",
    "        end_coords.append(end)\n",
    "        pos_strand_ex = genome.fetch(row['chromosome'], start , end)\n",
    "        seq = Seq(pos_strand_ex)\n",
    "        reverse_comp_strand = seq.reverse_complement()\n",
    "        \n",
    "        if reverse_comp_strand.upper() != row['seq_remove_g'].upper():\n",
    "            print('wrong matching; need to fix something')\n",
    "            print(reverse_comp_strand)\n",
    "            print(row['seq_remove_g'])\n",
    "            guide_inx_mismatch.append(index)\n",
    "    if row['strand'] == '-':\n",
    "        start = row['hg38_coord'] - 21\n",
    "        end = row['hg38_coord'] - 2\n",
    "        start_coords.append(start)\n",
    "        end_coords.append(end)\n",
    "        pos_strand_ex = genome.fetch(row['chromosome'], start , end)\n",
    "        if pos_strand_ex.upper() != row['seq_remove_g'].upper():\n",
    "            print('wrong matching; need to fix something')\n",
    "            print(pos_strand_ex)\n",
    "            print(row['seq_remove_g'])\n",
    "            guide_inx_mismatch.append(index)\n",
    "        \n",
    "\n",
    "        "
   ]
  },
  {
   "cell_type": "code",
   "execution_count": null,
   "id": "2f8746cd",
   "metadata": {},
   "outputs": [],
   "source": [
    "new_merged_tiling[new_merged_tiling['seq_remove_g'] == 'GCGAGGCCTACGCTGCAGT']"
   ]
  },
  {
   "cell_type": "code",
   "execution_count": null,
   "id": "12e338d5",
   "metadata": {},
   "outputs": [],
   "source": [
    "len(guide_inx_mismatch)"
   ]
  },
  {
   "cell_type": "code",
   "execution_count": null,
   "id": "4adda382",
   "metadata": {},
   "outputs": [],
   "source": [
    "# matched sequence\n",
    "len(new_merged_tiling)-len(guide_inx_mismatch)"
   ]
  },
  {
   "cell_type": "code",
   "execution_count": null,
   "id": "4fbf36dd",
   "metadata": {},
   "outputs": [],
   "source": [
    "new_merged_tiling['start_coord_hg38'] = start_coords\n",
    "new_merged_tiling['end_coord_hg38'] = end_coords"
   ]
  },
  {
   "cell_type": "code",
   "execution_count": null,
   "id": "05881131",
   "metadata": {},
   "outputs": [],
   "source": [
    "# remove indexs that didn't match\n",
    "new_merged_tiling = new_merged_tiling.drop(guide_inx_mismatch)"
   ]
  },
  {
   "cell_type": "code",
   "execution_count": null,
   "id": "2a7d4988",
   "metadata": {},
   "outputs": [],
   "source": [
    "new_merged_tiling"
   ]
  },
  {
   "cell_type": "code",
   "execution_count": null,
   "id": "41d3d344",
   "metadata": {},
   "outputs": [],
   "source": [
    "# The 30nt context sequence (assuming 19nt guide)\n",
    "# +5nt from 5' end\n",
    "# NGG\n",
    "# +3 from 3' end "
   ]
  },
  {
   "cell_type": "code",
   "execution_count": null,
   "id": "4b2687fe",
   "metadata": {},
   "outputs": [],
   "source": [
    "# reverse complement \n",
    "context_seq = []\n",
    "ngg_check = []\n",
    "for index, row in new_merged_tiling.iterrows():\n",
    "    if row['strand'] == '+':\n",
    "        pos_strand_ex = genome.fetch(row['chromosome'], row['start_coord_hg38'] - 6 , row['end_coord_hg38'] +5 )\n",
    "        seq = Seq(pos_strand_ex)\n",
    "        reverse_comp_strand = seq.reverse_complement()\n",
    "        context_seq.append(str(reverse_comp_strand))\n",
    "        ngg_check.append(reverse_comp_strand[25:27].upper() == 'GG')\n",
    "    if row['strand'] == '-':\n",
    "        pos_strand_ex = genome.fetch(row['chromosome'], row['start_coord_hg38'] - 5 , row['end_coord_hg38'] +6 )\n",
    "        context_seq.append(pos_strand_ex)\n",
    "        ngg_check.append(pos_strand_ex[25:27].upper() == 'GG')\n",
    "\n",
    "    "
   ]
  },
  {
   "cell_type": "code",
   "execution_count": null,
   "id": "35872a24",
   "metadata": {},
   "outputs": [],
   "source": [
    "sum([item[25:27].upper() != 'GG' for item in context_seq])\n"
   ]
  },
  {
   "cell_type": "code",
   "execution_count": null,
   "id": "8e03a656",
   "metadata": {},
   "outputs": [],
   "source": [
    "[item[25:27] for item in context_seq if item[25:27].upper() != 'GG']"
   ]
  },
  {
   "cell_type": "code",
   "execution_count": null,
   "id": "6c0f86bd",
   "metadata": {},
   "outputs": [],
   "source": [
    "# complement\n",
    "# context_seq = []\n",
    "# for index, row in new_merged_tiling.iterrows():\n",
    "#     if row['strand'] == '+':\n",
    "#         pos_strand_ex = genome.fetch(row['chromosome'], row['start_coord_hg38'] - 5 , row['end_coord_hg38'] +6 )\n",
    "#         seq = Seq(pos_strand_ex)\n",
    "#         reverse_comp_strand = seq.complement()\n",
    "#         context_seq.append(reverse_comp_strand)\n",
    "#     if row['strand'] == '-':\n",
    "#         pos_strand_ex = genome.fetch(row['chromosome'], row['start_coord_hg38'] - 5 , row['end_coord_hg38'] +6 )\n",
    "#         context_seq.append(pos_strand_ex)"
   ]
  },
  {
   "cell_type": "code",
   "execution_count": null,
   "id": "463f915b",
   "metadata": {},
   "outputs": [],
   "source": [
    "#sum([item[25:27].upper() != 'GG' for item in context_seq])\n",
    "#47887"
   ]
  },
  {
   "cell_type": "code",
   "execution_count": null,
   "id": "65bbcc3b",
   "metadata": {},
   "outputs": [],
   "source": [
    "# # reverse\n",
    "# context_seq = []\n",
    "# for index, row in new_merged_tiling.iterrows():\n",
    "#     if row['strand'] == '+':\n",
    "#         pos_strand_ex = genome.fetch(row['chromosome'], row['start_coord_hg38'] - 6 , row['end_coord_hg38'] +5 )\n",
    "#         seq = Seq(pos_strand_ex)\n",
    "#         reverse_comp_strand = seq.reverse_complement().complement()\n",
    "#         context_seq.append(str(reverse_comp_strand))\n",
    "#     if row['strand'] == '-':\n",
    "#         pos_strand_ex = genome.fetch(row['chromosome'], row['start_coord_hg38'] - 5 , row['end_coord_hg38'] +6 )\n",
    "#         context_seq.append(pos_strand_ex)\n",
    "\n",
    "# # reverse\n",
    "# sum([item[25:27].upper() != 'GG' for item in context_seq])\n",
    "# 53238"
   ]
  },
  {
   "cell_type": "code",
   "execution_count": null,
   "id": "0acda21e",
   "metadata": {},
   "outputs": [],
   "source": [
    "# # as it is \n",
    "# context_seq = []\n",
    "# for index, row in new_merged_tiling.iterrows():\n",
    "#     if row['strand'] == '+':\n",
    "#         pos_strand_ex = genome.fetch(row['chromosome'], row['start_coord_hg38'] - 5 , row['end_coord_hg38'] +6 )\n",
    "#         seq = Seq(pos_strand_ex)\n",
    "#         reverse_comp_strand = seq.reverse_complement().complement()\n",
    "#         context_seq.append(reverse_comp_strand)\n",
    "#     if row['strand'] == '-':\n",
    "#         pos_strand_ex = genome.fetch(row['chromosome'], row['start_coord_hg38'] - 5 , row['end_coord_hg38'] +6 )\n",
    "#         context_seq.append(pos_strand_ex)\n",
    "\n",
    "# #  as it is \n",
    "# sum([item[25:27].upper() != 'GG' for item in context_seq])\n",
    "# 53238"
   ]
  },
  {
   "cell_type": "code",
   "execution_count": null,
   "id": "ff30d37a",
   "metadata": {},
   "outputs": [],
   "source": [
    "new_merged_tiling['context_seq'] = context_seq\n",
    "new_merged_tiling['ngg_check'] = ngg_check"
   ]
  },
  {
   "cell_type": "code",
   "execution_count": null,
   "id": "30bd78a4",
   "metadata": {},
   "outputs": [],
   "source": [
    "new_merged_tiling[new_merged_tiling['ngg_check'] == False]"
   ]
  },
  {
   "cell_type": "code",
   "execution_count": null,
   "id": "5c7c74b2",
   "metadata": {},
   "outputs": [],
   "source": [
    "# only kept the ones with ngg pam\n",
    "new_merged_tiling = new_merged_tiling[new_merged_tiling['ngg_check'] == True]"
   ]
  },
  {
   "cell_type": "code",
   "execution_count": null,
   "id": "268b58d8",
   "metadata": {},
   "outputs": [],
   "source": [
    "# There is NO DUPLICATED sgRNA within the same gene \n",
    "new_merged_tiling[new_merged_tiling[['Target Gene Symbol', 'context_seq']].duplicated(keep = False)]"
   ]
  },
  {
   "cell_type": "code",
   "execution_count": null,
   "id": "518a9010",
   "metadata": {},
   "outputs": [],
   "source": [
    "# There are duplicated context seq accross genes\n",
    "dupliated_df = new_merged_tiling[new_merged_tiling[['context_seq']].duplicated(keep = False)]\n",
    "dupliated_df[dupliated_df.context_seq == 'CCTCAAAGAGATCAAGATGGGCAGTGGTGG']"
   ]
  },
  {
   "cell_type": "code",
   "execution_count": null,
   "id": "d83a4f0a",
   "metadata": {},
   "outputs": [],
   "source": [
    "# drop duplicates and only keep the first one\n",
    "new_merged_tiling = new_merged_tiling.drop_duplicates(['context_seq'], keep = 'first')\n",
    "new_merged_tiling= new_merged_tiling[['ID','Target Gene Symbol', 'chromosome','strand','sequence', 'context_seq','hg38_coord', 'start_coord_hg38',\n",
    "       'end_coord_hg38','Phenotype scores-ave_Rep1_Rep2']]"
   ]
  },
  {
   "cell_type": "markdown",
   "id": "4282fcc7",
   "metadata": {},
   "source": [
    "# Now i want to calcuate LFC "
   ]
  },
  {
   "cell_type": "code",
   "execution_count": null,
   "id": "d092418b",
   "metadata": {},
   "outputs": [],
   "source": [
    "# use count to calcuate LFC: remove T0 with z-score less than -3\n",
    "lognorms_nunez_tiling = pool.lognorm_columns(reads_df=nunez_tiling, columns=['Counts-T0, Rep1', 'Counts-T0, Rep2', \n",
    "                                                                          'Counts-Tfinal, Rep1', 'Counts-Tfinal, Rep2'])\n",
    "filtered_lognorms_nunez_tiling = pool.filter_pdna(lognorm_df=lognorms_nunez_tiling, \n",
    "                                                  pdna_cols=['Counts-T0, Rep1', 'Counts-T0, Rep2'], z_low=-3)\n",
    "print('Filtered ' + str(lognorms_nunez_tiling.shape[0] - filtered_lognorms_nunez_tiling.shape[0]) + ' rows due to low pDNA abundance')\n"
   ]
  },
  {
   "cell_type": "code",
   "execution_count": null,
   "id": "45e96176",
   "metadata": {},
   "outputs": [],
   "source": [
    "# use count to calcuate LFC: check lognorms of T0 repeats correlation \n",
    "plt.subplots(figsize=(4,4))\n",
    "gpplot.point_densityplot(data=filtered_lognorms_nunez_tiling, x='Counts-T0, Rep1', y='Counts-T0, Rep2')\n",
    "gpplot.add_correlation(data=filtered_lognorms_nunez_tiling, x='Counts-T0, Rep1', y='Counts-T0, Rep2')\n",
    "sns.despine()"
   ]
  },
  {
   "cell_type": "code",
   "execution_count": null,
   "id": "74ceaa30",
   "metadata": {},
   "outputs": [],
   "source": [
    "# use count to calcuate LFC: find average lognorms of T0 because they corrlate well\n",
    "filtered_lognorms_nunez_tiling['Avg Counts-T0'] = filtered_lognorms_nunez_tiling[['Counts-T0, Rep1', 'Counts-T0, Rep2']].mean(axis=1)\n",
    "# use count to calcuate LFC: calcuate LFC relative to the averaged T0 lognmorm \n",
    "lfc_nunez_tiling = pool.calculate_lfcs(lognorm_df=filtered_lognorms_nunez_tiling, \n",
    "                                         ref_col='Avg Counts-T0', \n",
    "                                       target_cols=['Counts-Tfinal, Rep1', 'Counts-Tfinal, Rep2'])\n",
    "#  check LFC of Tfinal repeats correlation \n",
    "plt.subplots(figsize=(4,4))\n",
    "gpplot.point_densityplot(data=lfc_nunez_tiling, x='Counts-Tfinal, Rep1', y='Counts-Tfinal, Rep2')\n",
    "gpplot.add_correlation(data=lfc_nunez_tiling, x='Counts-Tfinal, Rep1', y='Counts-Tfinal, Rep2')\n",
    "sns.despine()"
   ]
  },
  {
   "cell_type": "code",
   "execution_count": null,
   "id": "e0fc52fb",
   "metadata": {},
   "outputs": [],
   "source": [
    "# find average LFC of Tfinal because they corrlate well\n",
    "lfc_nunez_tiling['Avg_LFC-Tfinal'] = lfc_nunez_tiling[['Counts-Tfinal, Rep1', 'Counts-Tfinal, Rep2']].mean(axis=1)\n",
    "# calcuate z-score relative to neg control\n",
    "nc_mean = lfc_nunez_tiling[lfc_nunez_tiling.gene == 'negative_control']['Avg_LFC-Tfinal'].mean()\n",
    "nc_mean_std = lfc_nunez_tiling[lfc_nunez_tiling.gene == 'negative_control']['Avg_LFC-Tfinal'].std()\n",
    "lfc_nunez_tiling['z-score relative to NC'] = (lfc_nunez_tiling['Avg_LFC-Tfinal'] - nc_mean)/nc_mean_std"
   ]
  },
  {
   "cell_type": "code",
   "execution_count": null,
   "id": "0998abf5",
   "metadata": {},
   "outputs": [],
   "source": [
    "lfc_nunez_tiling_cleaned = lfc_nunez_tiling.dropna()\n",
    "lfc_nunez_tiling_cleaned = lfc_nunez_tiling_cleaned[['ID', 'gene', 'sequence','Phenotype scores-ave_Rep1_Rep2',\n",
    "       'Avg_LFC-Tfinal', 'z-score relative to NC']]"
   ]
  },
  {
   "cell_type": "code",
   "execution_count": null,
   "id": "33b0536b",
   "metadata": {},
   "outputs": [],
   "source": [
    "# can use ID to merge because it is unique\n",
    "lfc_nunez_tiling_cleaned['ID'].value_counts()"
   ]
  },
  {
   "cell_type": "code",
   "execution_count": null,
   "id": "a0ef8727",
   "metadata": {},
   "outputs": [],
   "source": [
    "lfc_nunez_tiling_cleaned"
   ]
  },
  {
   "cell_type": "code",
   "execution_count": null,
   "id": "69997248",
   "metadata": {},
   "outputs": [],
   "source": [
    "final_clean = pd.merge(new_merged_tiling, \n",
    "         lfc_nunez_tiling_cleaned.rename(columns = {'gene': 'Target Gene Symbol'}), \n",
    "         on = ['ID', 'Target Gene Symbol', 'sequence','Phenotype scores-ave_Rep1_Rep2'])\n",
    "\n",
    "final_clean"
   ]
  },
  {
   "cell_type": "code",
   "execution_count": null,
   "id": "80920d86",
   "metadata": {},
   "outputs": [],
   "source": [
    "final_clean.to_csv('../Data/CleanedExternalData/Nunez2020Cleaned2024_v1.csv',\n",
    "                    index = False)\n",
    "\n"
   ]
  }
 ],
 "metadata": {
  "kernelspec": {
   "display_name": "crispri",
   "language": "python",
   "name": "crispri"
  },
  "language_info": {
   "codemirror_mode": {
    "name": "ipython",
    "version": 3
   },
   "file_extension": ".py",
   "mimetype": "text/x-python",
   "name": "python",
   "nbconvert_exporter": "python",
   "pygments_lexer": "ipython3",
   "version": "3.9.18"
  }
 },
 "nbformat": 4,
 "nbformat_minor": 5
}
