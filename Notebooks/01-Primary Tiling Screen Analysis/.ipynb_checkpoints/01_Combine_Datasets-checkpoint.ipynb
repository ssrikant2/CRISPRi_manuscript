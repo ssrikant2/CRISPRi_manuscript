{
 "cells": [
  {
   "cell_type": "code",
   "execution_count": 3,
   "id": "42d89dda",
   "metadata": {},
   "outputs": [],
   "source": [
    "import pandas as pd"
   ]
  },
  {
   "cell_type": "code",
   "execution_count": 6,
   "id": "d1dabd6d-1d8f-4a22-afa6-f7b6a944bbfc",
   "metadata": {},
   "outputs": [],
   "source": [
    "#define file path\n",
    "file_path = '../../Data/primaryLibrary/'"
   ]
  },
  {
   "cell_type": "code",
   "execution_count": 8,
   "id": "5cd91a46",
   "metadata": {},
   "outputs": [],
   "source": [
    "#read in z-scored screening data\n",
    "annot_guide_lfcs_A549_Kox1 = pd.read_csv(file_path + 'A549_Kox1_zscored.csv')\n",
    "annot_guide_lfcs_A549_Zim3 = pd.read_csv(file_path + 'A549_Zim3_zscored.csv')\n",
    "annot_guide_lfcs_HCT116_Kox1 = pd.read_csv(file_path + 'HCT116_Kox1_zscored.csv')\n",
    "annot_guide_lfcs_HCT116_Zim3 = pd.read_csv(file_path + 'HCT116_Zim3_zscored.csv')"
   ]
  },
  {
   "cell_type": "code",
   "execution_count": 9,
   "id": "77ead2f2",
   "metadata": {},
   "outputs": [],
   "source": [
    "annot_guide_lfcs_HCT116_Kox1.rename(columns = {'avg_lfc':'avg_lfc_HCT116_Kox1',\n",
    "                                              'z_scored_avg_lfc': 'z_scored_avg_lfc_HCT116_Kox1'}, inplace = True)"
   ]
  },
  {
   "cell_type": "code",
   "execution_count": 10,
   "id": "da583de9",
   "metadata": {},
   "outputs": [],
   "source": [
    "annot_guide_lfcs_HCT116_Zim3.rename(columns = {'avg_lfc':'avg_lfc_HCT116_Zim3',\n",
    "                                              'z_scored_avg_lfc': 'z_scored_avg_lfc_HCT116_Zim3'}, inplace = True)"
   ]
  },
  {
   "cell_type": "code",
   "execution_count": 11,
   "id": "1f24ed37",
   "metadata": {},
   "outputs": [],
   "source": [
    "annot_guide_lfcs_A549_Kox1.rename(columns = {'avg_lfc':'avg_lfc_A549_Kox1',\n",
    "                                              'z_scored_avg_lfc': 'z_scored_avg_lfc_A549_Kox1'}, inplace = True)"
   ]
  },
  {
   "cell_type": "code",
   "execution_count": 12,
   "id": "7084869f",
   "metadata": {},
   "outputs": [],
   "source": [
    "annot_guide_lfcs_A549_Zim3.rename(columns = {'avg_lfc':'avg_lfc_A549_Zim3',\n",
    "                                              'z_scored_avg_lfc': 'z_scored_avg_lfc_A549_Zim3'}, inplace = True)"
   ]
  },
  {
   "cell_type": "code",
   "execution_count": 14,
   "id": "ab88fdc4",
   "metadata": {},
   "outputs": [],
   "source": [
    "# merge A549 files\n",
    "A549_files = pd.merge(annot_guide_lfcs_A549_Zim3, annot_guide_lfcs_A549_Kox1)\n",
    "A549_files= A549_files[['Target Gene Symbol','Category','TSS Position',\n",
    "            'sgRNA Sequence','sgRNA Context Sequence','On-Target Efficacy Score','sgRNA \\'Cut\\' Site TSS Offset',\n",
    "            'avg_lfc_A549_Zim3','z_scored_avg_lfc_A549_Zim3','avg_lfc_A549_Kox1','z_scored_avg_lfc_A549_Kox1']]\n"
   ]
  },
  {
   "cell_type": "code",
   "execution_count": 18,
   "id": "da245ec7",
   "metadata": {},
   "outputs": [],
   "source": [
    "# merge HCT116 files\n",
    "\n",
    "HCT116_files = pd.merge(annot_guide_lfcs_HCT116_Zim3, annot_guide_lfcs_HCT116_Kox1)\n",
    "HCT116_files = HCT116_files[['Target Gene Symbol','Category','TSS Position',\n",
    "            'sgRNA Sequence','sgRNA Context Sequence','On-Target Efficacy Score','sgRNA \\'Cut\\' Site TSS Offset',\n",
    "            'avg_lfc_HCT116_Zim3','z_scored_avg_lfc_HCT116_Zim3','avg_lfc_HCT116_Kox1','z_scored_avg_lfc_HCT116_Kox1']]\n"
   ]
  },
  {
   "cell_type": "code",
   "execution_count": 19,
   "id": "026eeea8",
   "metadata": {},
   "outputs": [],
   "source": [
    "# merge all files\n",
    "merged_df = pd.merge(A549_files , \n",
    "                     HCT116_files, \n",
    "                      how = 'inner')"
   ]
  },
  {
   "cell_type": "code",
   "execution_count": 21,
   "id": "2a2655e7",
   "metadata": {},
   "outputs": [
    {
     "data": {
      "text/plain": [
       "106852"
      ]
     },
     "execution_count": 21,
     "metadata": {},
     "output_type": "execute_result"
    }
   ],
   "source": [
    "# number of total guides retained?\n",
    "len(merged_df)"
   ]
  },
  {
   "cell_type": "code",
   "execution_count": 23,
   "id": "56b44656",
   "metadata": {},
   "outputs": [
    {
     "data": {
      "text/plain": [
       "count\n",
       "1    104869\n",
       "Name: count, dtype: int64"
      ]
     },
     "execution_count": 23,
     "metadata": {},
     "output_type": "execute_result"
    }
   ],
   "source": [
    "# check that no context sequences are duplicated\n",
    "merged_df['sgRNA Context Sequence'].value_counts().value_counts()"
   ]
  },
  {
   "cell_type": "code",
   "execution_count": 24,
   "id": "bf8cbb74",
   "metadata": {},
   "outputs": [
    {
     "data": {
      "text/plain": [
       "Category\n",
       "Essential              59553\n",
       "Non-essential          45316\n",
       "ONE_INTERGENICO_CTL     1983\n",
       "Name: count, dtype: int64"
      ]
     },
     "execution_count": 24,
     "metadata": {},
     "output_type": "execute_result"
    }
   ],
   "source": [
    "merged_df['Category'].value_counts()"
   ]
  },
  {
   "cell_type": "code",
   "execution_count": 25,
   "id": "36beadd2",
   "metadata": {},
   "outputs": [
    {
     "data": {
      "text/html": [
       "<div>\n",
       "<style scoped>\n",
       "    .dataframe tbody tr th:only-of-type {\n",
       "        vertical-align: middle;\n",
       "    }\n",
       "\n",
       "    .dataframe tbody tr th {\n",
       "        vertical-align: top;\n",
       "    }\n",
       "\n",
       "    .dataframe thead th {\n",
       "        text-align: right;\n",
       "    }\n",
       "</style>\n",
       "<table border=\"1\" class=\"dataframe\">\n",
       "  <thead>\n",
       "    <tr style=\"text-align: right;\">\n",
       "      <th></th>\n",
       "      <th>Target Gene Symbol</th>\n",
       "      <th>Category</th>\n",
       "      <th>TSS Position</th>\n",
       "      <th>sgRNA Sequence</th>\n",
       "      <th>sgRNA Context Sequence</th>\n",
       "      <th>On-Target Efficacy Score</th>\n",
       "      <th>sgRNA 'Cut' Site TSS Offset</th>\n",
       "      <th>avg_lfc_A549_Zim3</th>\n",
       "      <th>z_scored_avg_lfc_A549_Zim3</th>\n",
       "      <th>avg_lfc_A549_Kox1</th>\n",
       "      <th>z_scored_avg_lfc_A549_Kox1</th>\n",
       "      <th>avg_lfc_HCT116_Zim3</th>\n",
       "      <th>z_scored_avg_lfc_HCT116_Zim3</th>\n",
       "      <th>avg_lfc_HCT116_Kox1</th>\n",
       "      <th>z_scored_avg_lfc_HCT116_Kox1</th>\n",
       "    </tr>\n",
       "  </thead>\n",
       "  <tbody>\n",
       "    <tr>\n",
       "      <th>0</th>\n",
       "      <td>OR6K6</td>\n",
       "      <td>Non-essential</td>\n",
       "      <td>158754721.0</td>\n",
       "      <td>AAAAAAAAAAGGTCATTCAG</td>\n",
       "      <td>CTAGAAAAAAAAAAGGTCATTCAGGGGTCC</td>\n",
       "      <td>-0.153200</td>\n",
       "      <td>-24.0</td>\n",
       "      <td>0.216872</td>\n",
       "      <td>0.023685</td>\n",
       "      <td>-0.110835</td>\n",
       "      <td>-0.744721</td>\n",
       "      <td>-0.265074</td>\n",
       "      <td>-1.285187</td>\n",
       "      <td>-0.272546</td>\n",
       "      <td>-1.421982</td>\n",
       "    </tr>\n",
       "    <tr>\n",
       "      <th>1</th>\n",
       "      <td>COPS3</td>\n",
       "      <td>Essential</td>\n",
       "      <td>17281246.0</td>\n",
       "      <td>AAAAAAAAAGCCGTGTGAGC</td>\n",
       "      <td>AAAAAAAAAAAAAGCCGTGTGAGCTGGCGG</td>\n",
       "      <td>-0.235500</td>\n",
       "      <td>825.0</td>\n",
       "      <td>-0.268908</td>\n",
       "      <td>-1.270512</td>\n",
       "      <td>0.121195</td>\n",
       "      <td>-0.181286</td>\n",
       "      <td>-0.221117</td>\n",
       "      <td>-1.178776</td>\n",
       "      <td>-0.085464</td>\n",
       "      <td>-0.929032</td>\n",
       "    </tr>\n",
       "    <tr>\n",
       "      <th>2</th>\n",
       "      <td>RSRC2</td>\n",
       "      <td>Essential</td>\n",
       "      <td>122526936.0</td>\n",
       "      <td>AAAAAAAAAGGCACTCCCTG</td>\n",
       "      <td>CTGGAAAAAAAAAGGCACTCCCTGCGGCTC</td>\n",
       "      <td>-0.009779</td>\n",
       "      <td>288.0</td>\n",
       "      <td>-0.024939</td>\n",
       "      <td>-0.620540</td>\n",
       "      <td>0.690920</td>\n",
       "      <td>1.202169</td>\n",
       "      <td>-0.094539</td>\n",
       "      <td>-0.872359</td>\n",
       "      <td>0.115417</td>\n",
       "      <td>-0.399721</td>\n",
       "    </tr>\n",
       "    <tr>\n",
       "      <th>3</th>\n",
       "      <td>ADSL</td>\n",
       "      <td>Essential</td>\n",
       "      <td>40346501.0</td>\n",
       "      <td>AAAAAAAAAGGCCTGCCTTT</td>\n",
       "      <td>AAAAAAAAAAAAAGGCCTGCCTTTCGGGTT</td>\n",
       "      <td>-0.813600</td>\n",
       "      <td>-391.0</td>\n",
       "      <td>-0.105666</td>\n",
       "      <td>-0.835607</td>\n",
       "      <td>0.616970</td>\n",
       "      <td>1.022597</td>\n",
       "      <td>0.070252</td>\n",
       "      <td>-0.473439</td>\n",
       "      <td>0.565959</td>\n",
       "      <td>0.787431</td>\n",
       "    </tr>\n",
       "    <tr>\n",
       "      <th>4</th>\n",
       "      <td>CYP7A1</td>\n",
       "      <td>Non-essential</td>\n",
       "      <td>58500163.0</td>\n",
       "      <td>AAAAAAAAAGTGGTAGTAAC</td>\n",
       "      <td>TAGAAAAAAAAAAGTGGTAGTAACTGGCCT</td>\n",
       "      <td>-0.235500</td>\n",
       "      <td>-121.0</td>\n",
       "      <td>-0.292964</td>\n",
       "      <td>-1.334599</td>\n",
       "      <td>-0.183103</td>\n",
       "      <td>-0.920208</td>\n",
       "      <td>-0.069267</td>\n",
       "      <td>-0.811182</td>\n",
       "      <td>0.119249</td>\n",
       "      <td>-0.389626</td>\n",
       "    </tr>\n",
       "  </tbody>\n",
       "</table>\n",
       "</div>"
      ],
      "text/plain": [
       "  Target Gene Symbol       Category  TSS Position        sgRNA Sequence  \\\n",
       "0              OR6K6  Non-essential   158754721.0  AAAAAAAAAAGGTCATTCAG   \n",
       "1              COPS3      Essential    17281246.0  AAAAAAAAAGCCGTGTGAGC   \n",
       "2              RSRC2      Essential   122526936.0  AAAAAAAAAGGCACTCCCTG   \n",
       "3               ADSL      Essential    40346501.0  AAAAAAAAAGGCCTGCCTTT   \n",
       "4             CYP7A1  Non-essential    58500163.0  AAAAAAAAAGTGGTAGTAAC   \n",
       "\n",
       "           sgRNA Context Sequence  On-Target Efficacy Score  \\\n",
       "0  CTAGAAAAAAAAAAGGTCATTCAGGGGTCC                 -0.153200   \n",
       "1  AAAAAAAAAAAAAGCCGTGTGAGCTGGCGG                 -0.235500   \n",
       "2  CTGGAAAAAAAAAGGCACTCCCTGCGGCTC                 -0.009779   \n",
       "3  AAAAAAAAAAAAAGGCCTGCCTTTCGGGTT                 -0.813600   \n",
       "4  TAGAAAAAAAAAAGTGGTAGTAACTGGCCT                 -0.235500   \n",
       "\n",
       "   sgRNA 'Cut' Site TSS Offset  avg_lfc_A549_Zim3  z_scored_avg_lfc_A549_Zim3  \\\n",
       "0                        -24.0           0.216872                    0.023685   \n",
       "1                        825.0          -0.268908                   -1.270512   \n",
       "2                        288.0          -0.024939                   -0.620540   \n",
       "3                       -391.0          -0.105666                   -0.835607   \n",
       "4                       -121.0          -0.292964                   -1.334599   \n",
       "\n",
       "   avg_lfc_A549_Kox1  z_scored_avg_lfc_A549_Kox1  avg_lfc_HCT116_Zim3  \\\n",
       "0          -0.110835                   -0.744721            -0.265074   \n",
       "1           0.121195                   -0.181286            -0.221117   \n",
       "2           0.690920                    1.202169            -0.094539   \n",
       "3           0.616970                    1.022597             0.070252   \n",
       "4          -0.183103                   -0.920208            -0.069267   \n",
       "\n",
       "   z_scored_avg_lfc_HCT116_Zim3  avg_lfc_HCT116_Kox1  \\\n",
       "0                     -1.285187            -0.272546   \n",
       "1                     -1.178776            -0.085464   \n",
       "2                     -0.872359             0.115417   \n",
       "3                     -0.473439             0.565959   \n",
       "4                     -0.811182             0.119249   \n",
       "\n",
       "   z_scored_avg_lfc_HCT116_Kox1  \n",
       "0                     -1.421982  \n",
       "1                     -0.929032  \n",
       "2                     -0.399721  \n",
       "3                      0.787431  \n",
       "4                     -0.389626  "
      ]
     },
     "execution_count": 25,
     "metadata": {},
     "output_type": "execute_result"
    }
   ],
   "source": [
    "merged_df.head()"
   ]
  },
  {
   "cell_type": "code",
   "execution_count": 26,
   "id": "ba75d8d2",
   "metadata": {},
   "outputs": [],
   "source": [
    "merged_df.to_csv(file_path + \"inHouseDatasetsCombined.csv\", index = False)"
   ]
  },
  {
   "cell_type": "code",
   "execution_count": null,
   "id": "6662a924-9e37-4d71-865d-dd1ba0d6643e",
   "metadata": {},
   "outputs": [],
   "source": []
  }
 ],
 "metadata": {
  "kernelspec": {
   "display_name": "Python 3 (ipykernel)",
   "language": "python",
   "name": "python3"
  },
  "language_info": {
   "codemirror_mode": {
    "name": "ipython",
    "version": 3
   },
   "file_extension": ".py",
   "mimetype": "text/x-python",
   "name": "python",
   "nbconvert_exporter": "python",
   "pygments_lexer": "ipython3",
   "version": "3.9.18"
  }
 },
 "nbformat": 4,
 "nbformat_minor": 5
}
